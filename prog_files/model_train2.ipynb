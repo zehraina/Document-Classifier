{
 "cells": [
  {
   "cell_type": "code",
   "execution_count": 1,
   "id": "2fb93505",
   "metadata": {},
   "outputs": [
    {
     "name": "stderr",
     "output_type": "stream",
     "text": [
      "2023-01-25 21:50:07.441496: I tensorflow/core/platform/cpu_feature_guard.cc:193] This TensorFlow binary is optimized with oneAPI Deep Neural Network Library (oneDNN) to use the following CPU instructions in performance-critical operations:  AVX2 FMA\n",
      "To enable them in other operations, rebuild TensorFlow with the appropriate compiler flags.\n",
      "2023-01-25 21:50:07.920078: W tensorflow/compiler/xla/stream_executor/platform/default/dso_loader.cc:64] Could not load dynamic library 'libcudart.so.11.0'; dlerror: libcudart.so.11.0: cannot open shared object file: No such file or directory\n",
      "2023-01-25 21:50:07.920107: I tensorflow/compiler/xla/stream_executor/cuda/cudart_stub.cc:29] Ignore above cudart dlerror if you do not have a GPU set up on your machine.\n",
      "2023-01-25 21:50:09.946774: W tensorflow/compiler/xla/stream_executor/platform/default/dso_loader.cc:64] Could not load dynamic library 'libnvinfer.so.7'; dlerror: libnvinfer.so.7: cannot open shared object file: No such file or directory\n",
      "2023-01-25 21:50:09.946993: W tensorflow/compiler/xla/stream_executor/platform/default/dso_loader.cc:64] Could not load dynamic library 'libnvinfer_plugin.so.7'; dlerror: libnvinfer_plugin.so.7: cannot open shared object file: No such file or directory\n",
      "2023-01-25 21:50:09.947011: W tensorflow/compiler/tf2tensorrt/utils/py_utils.cc:38] TF-TRT Warning: Cannot dlopen some TensorRT libraries. If you would like to use Nvidia GPU with TensorRT, please make sure the missing libraries mentioned above are installed properly.\n",
      "/home/fansan/anaconda3/lib/python3.9/site-packages/scipy/__init__.py:146: UserWarning: A NumPy version >=1.16.5 and <1.23.0 is required for this version of SciPy (detected version 1.24.1\n",
      "  warnings.warn(f\"A NumPy version >={np_minversion} and <{np_maxversion}\"\n"
     ]
    }
   ],
   "source": [
    "import tensorflow as tf\n",
    "from matplotlib import pyplot as plt\n",
    "from tensorflow.keras.models import Model\n",
    "from tensorflow.keras.preprocessing import image\n",
    "from tensorflow.keras.preprocessing.image import ImageDataGenerator\n",
    "from tensorflow.keras.models import Sequential\n",
    "from tensorflow.keras.layers import Dense, Conv2D,Dropout,Flatten,MaxPooling2D\n",
    "import numpy as np\n",
    "import pandas as pd\n",
    "import os\n",
    "import cv2\n",
    "import matplotlib.pyplot as plt"
   ]
  },
  {
   "cell_type": "code",
   "execution_count": 2,
   "id": "dcdd28c3",
   "metadata": {},
   "outputs": [],
   "source": [
    "train_path=\"/home/fansan/Desktop/Document-Classifier/Dataset/data/train/\"\n",
    "test_path=\"/home/fansan/Desktop/Document-Classifier/Dataset/data/test/\"\n",
    "val_path=\"/home/fansan/Desktop/Document-Classifier/Dataset/data/valid/\""
   ]
  },
  {
   "cell_type": "code",
   "execution_count": 3,
   "id": "08737e69",
   "metadata": {},
   "outputs": [],
   "source": [
    "x_train=[]\n",
    "for folder in os.listdir(train_path):\n",
    "    sub_path=train_path+\"/\"+folder\n",
    "    for img in os.listdir(sub_path):\n",
    "        image_path=sub_path+\"/\"+img\n",
    "        img_arr=cv2.imread(image_path)\n",
    "        img_arr=cv2.resize(img_arr,(224,224))\n",
    "        x_train.append(img_arr)\n",
    "\n",
    "x_test=[]\n",
    "for folder in os.listdir(test_path):\n",
    "    sub_path=test_path+\"/\"+folder\n",
    "    for img in os.listdir(sub_path):\n",
    "        image_path=sub_path+\"/\"+img\n",
    "        img_arr=cv2.imread(image_path)\n",
    "        img_arr=cv2.resize(img_arr,(224,224))\n",
    "        x_test.append(img_arr)\n",
    "\n",
    "x_val=[]\n",
    "for folder in os.listdir(val_path):\n",
    "    sub_path=val_path+\"/\"+folder\n",
    "    for img in os.listdir(sub_path):\n",
    "        image_path=sub_path+\"/\"+img\n",
    "        img_arr=cv2.imread(image_path)\n",
    "        img_arr=cv2.resize(img_arr,(224,224))\n",
    "        x_val.append(img_arr)"
   ]
  },
  {
   "cell_type": "code",
   "execution_count": 4,
   "id": "ab988607",
   "metadata": {},
   "outputs": [],
   "source": [
    "train_x=np.array(x_train)\n",
    "test_x=np.array(x_test)\n",
    "val_x=np.array(x_val)"
   ]
  },
  {
   "cell_type": "code",
   "execution_count": 5,
   "id": "3afb78f2",
   "metadata": {},
   "outputs": [],
   "source": [
    "train_x=train_x/255.0\n",
    "test_x=test_x/255.0\n",
    "val_x=val_x/255.0"
   ]
  },
  {
   "cell_type": "code",
   "execution_count": 6,
   "id": "cf3cc2ff",
   "metadata": {},
   "outputs": [],
   "source": [
    "train_datagen = ImageDataGenerator(rescale = 1./255)\n",
    "test_datagen = ImageDataGenerator(rescale = 1./255)\n",
    "val_datagen = ImageDataGenerator(rescale = 1./255)\n"
   ]
  },
  {
   "cell_type": "code",
   "execution_count": 7,
   "id": "4818f4b6",
   "metadata": {},
   "outputs": [
    {
     "name": "stdout",
     "output_type": "stream",
     "text": [
      "Found 155 images belonging to 5 classes.\n",
      "Found 48 images belonging to 5 classes.\n",
      "Found 33 images belonging to 5 classes.\n"
     ]
    }
   ],
   "source": [
    "training_set = train_datagen.flow_from_directory(train_path,\n",
    "                                                 target_size = (224, 224),\n",
    "                                                 batch_size = 32,\n",
    "                                                 class_mode = 'sparse')\n",
    "test_set = test_datagen.flow_from_directory(test_path,\n",
    "                                            target_size = (224, 224),\n",
    "                                            batch_size = 32,\n",
    "                                            class_mode = 'sparse')\n",
    "val_set = val_datagen.flow_from_directory(val_path,\n",
    "                                            target_size = (224, 224),\n",
    "                                            batch_size = 32,\n",
    "                                            class_mode = 'sparse')"
   ]
  },
  {
   "cell_type": "code",
   "execution_count": 8,
   "id": "a4c35ec2",
   "metadata": {},
   "outputs": [],
   "source": [
    "train_y=training_set.classes\n",
    "test_y=test_set.classes\n",
    "val_y=val_set.classes"
   ]
  },
  {
   "cell_type": "code",
   "execution_count": 9,
   "id": "1b939cab",
   "metadata": {},
   "outputs": [
    {
     "data": {
      "text/plain": [
       "{'aadhar': 0, 'driver license': 1, 'pan': 2, 'passport': 3, 'voter': 4}"
      ]
     },
     "execution_count": 9,
     "metadata": {},
     "output_type": "execute_result"
    }
   ],
   "source": [
    "training_set.class_indices"
   ]
  },
  {
   "cell_type": "code",
   "execution_count": 10,
   "id": "f879aed5",
   "metadata": {},
   "outputs": [
    {
     "data": {
      "text/plain": [
       "((155,), (48,), (33,))"
      ]
     },
     "execution_count": 10,
     "metadata": {},
     "output_type": "execute_result"
    }
   ],
   "source": [
    "train_y.shape,test_y.shape,val_y.shape"
   ]
  },
  {
   "cell_type": "code",
   "execution_count": 11,
   "id": "d05e542a",
   "metadata": {},
   "outputs": [
    {
     "name": "stderr",
     "output_type": "stream",
     "text": [
      "2023-01-25 21:50:18.166602: W tensorflow/compiler/xla/stream_executor/platform/default/dso_loader.cc:64] Could not load dynamic library 'libcuda.so.1'; dlerror: libcuda.so.1: cannot open shared object file: No such file or directory; LD_LIBRARY_PATH: /home/fansan/anaconda3/lib/python3.9/site-packages/cv2/../../lib64:\n",
      "2023-01-25 21:50:18.167151: W tensorflow/compiler/xla/stream_executor/cuda/cuda_driver.cc:265] failed call to cuInit: UNKNOWN ERROR (303)\n",
      "2023-01-25 21:50:18.167242: I tensorflow/compiler/xla/stream_executor/cuda/cuda_diagnostics.cc:156] kernel driver does not appear to be running on this host (fansan-HP-Laptop-15s-du1xxx): /proc/driver/nvidia/version does not exist\n",
      "2023-01-25 21:50:18.170873: I tensorflow/core/platform/cpu_feature_guard.cc:193] This TensorFlow binary is optimized with oneAPI Deep Neural Network Library (oneDNN) to use the following CPU instructions in performance-critical operations:  AVX2 FMA\n",
      "To enable them in other operations, rebuild TensorFlow with the appropriate compiler flags.\n",
      "2023-01-25 21:50:18.301390: W tensorflow/tsl/framework/cpu_allocator_impl.cc:82] Allocation of 403734528 exceeds 10% of free system memory.\n",
      "2023-01-25 21:50:18.659934: W tensorflow/tsl/framework/cpu_allocator_impl.cc:82] Allocation of 403734528 exceeds 10% of free system memory.\n",
      "2023-01-25 21:50:18.753270: W tensorflow/tsl/framework/cpu_allocator_impl.cc:82] Allocation of 403734528 exceeds 10% of free system memory.\n"
     ]
    },
    {
     "name": "stdout",
     "output_type": "stream",
     "text": [
      "Model: \"sequential\"\n",
      "_________________________________________________________________\n",
      " Layer (type)                Output Shape              Param #   \n",
      "=================================================================\n",
      " conv2d (Conv2D)             (None, 222, 222, 32)      896       \n",
      "                                                                 \n",
      " max_pooling2d (MaxPooling2D  (None, 111, 111, 32)     0         \n",
      " )                                                               \n",
      "                                                                 \n",
      " flatten (Flatten)           (None, 394272)            0         \n",
      "                                                                 \n",
      " dense (Dense)               (None, 256)               100933888 \n",
      "                                                                 \n",
      " dropout (Dropout)           (None, 256)               0         \n",
      "                                                                 \n",
      " dense_1 (Dense)             (None, 5)                 1285      \n",
      "                                                                 \n",
      "=================================================================\n",
      "Total params: 100,936,069\n",
      "Trainable params: 100,936,069\n",
      "Non-trainable params: 0\n",
      "_________________________________________________________________\n"
     ]
    }
   ],
   "source": [
    "input_shape=(224,224, 3)\n",
    "model=Sequential()\n",
    "model.add(Conv2D(32,kernel_size=(3,3),input_shape=input_shape))\n",
    "model.add(MaxPooling2D(pool_size=(2,2)))\n",
    "model.add(Flatten())\n",
    "model.add(Dense(256,activation=tf.nn.relu))\n",
    "model.add(Dropout(0.1))\n",
    "model.add(Dense(5,activation=tf.nn.softmax))\n",
    "model.summary()"
   ]
  },
  {
   "cell_type": "code",
   "execution_count": 12,
   "id": "5ee9b644",
   "metadata": {},
   "outputs": [],
   "source": [
    "model.compile(\n",
    "  loss='sparse_categorical_crossentropy',\n",
    "  optimizer=\"adam\",\n",
    "  metrics=['accuracy']\n",
    ")"
   ]
  },
  {
   "cell_type": "code",
   "execution_count": 13,
   "id": "9291ccff",
   "metadata": {},
   "outputs": [],
   "source": [
    "from tensorflow.keras.callbacks import EarlyStopping\n",
    "early_stop=EarlyStopping(monitor='val_loss',mode='min',verbose=1,patience=5)"
   ]
  },
  {
   "cell_type": "code",
   "execution_count": 14,
   "id": "5a3769ac",
   "metadata": {},
   "outputs": [
    {
     "name": "stdout",
     "output_type": "stream",
     "text": [
      "Epoch 1/30\n"
     ]
    },
    {
     "name": "stderr",
     "output_type": "stream",
     "text": [
      "2023-01-25 21:50:19.973751: W tensorflow/tsl/framework/cpu_allocator_impl.cc:82] Allocation of 403734528 exceeds 10% of free system memory.\n",
      "2023-01-25 21:50:20.031319: W tensorflow/tsl/framework/cpu_allocator_impl.cc:82] Allocation of 403734528 exceeds 10% of free system memory.\n"
     ]
    },
    {
     "name": "stdout",
     "output_type": "stream",
     "text": [
      "5/5 [==============================] - 19s 3s/step - loss: 155.8811 - accuracy: 0.2516 - val_loss: 138.2725 - val_accuracy: 0.2424\n",
      "Epoch 2/30\n",
      "5/5 [==============================] - 14s 3s/step - loss: 95.9427 - accuracy: 0.2000 - val_loss: 18.1342 - val_accuracy: 0.1515\n",
      "Epoch 3/30\n",
      "5/5 [==============================] - 14s 3s/step - loss: 17.2101 - accuracy: 0.2581 - val_loss: 12.3401 - val_accuracy: 0.3333\n",
      "Epoch 4/30\n",
      "5/5 [==============================] - 14s 3s/step - loss: 10.5170 - accuracy: 0.2774 - val_loss: 10.6010 - val_accuracy: 0.1212\n",
      "Epoch 5/30\n",
      "5/5 [==============================] - 16s 3s/step - loss: 8.9234 - accuracy: 0.3806 - val_loss: 6.8353 - val_accuracy: 0.2727\n",
      "Epoch 6/30\n",
      "5/5 [==============================] - 21s 3s/step - loss: 2.4785 - accuracy: 0.4194 - val_loss: 3.1360 - val_accuracy: 0.0909\n",
      "Epoch 7/30\n",
      "5/5 [==============================] - 13s 3s/step - loss: 1.6874 - accuracy: 0.4581 - val_loss: 2.9486 - val_accuracy: 0.3636\n",
      "Epoch 8/30\n",
      "5/5 [==============================] - 24s 5s/step - loss: 1.3148 - accuracy: 0.4968 - val_loss: 2.7518 - val_accuracy: 0.0000e+00\n",
      "Epoch 9/30\n",
      "5/5 [==============================] - 15s 3s/step - loss: 1.2993 - accuracy: 0.3355 - val_loss: 2.8149 - val_accuracy: 0.0000e+00\n",
      "Epoch 10/30\n",
      "5/5 [==============================] - 16s 3s/step - loss: 1.2077 - accuracy: 0.4065 - val_loss: 3.0889 - val_accuracy: 0.0000e+00\n",
      "Epoch 11/30\n",
      "5/5 [==============================] - 23s 4s/step - loss: 1.1114 - accuracy: 0.4903 - val_loss: 3.1329 - val_accuracy: 0.1212\n",
      "Epoch 12/30\n",
      "5/5 [==============================] - 15s 3s/step - loss: 1.0876 - accuracy: 0.4710 - val_loss: 3.1429 - val_accuracy: 0.1515\n",
      "Epoch 13/30\n",
      "5/5 [==============================] - 13s 3s/step - loss: 0.8484 - accuracy: 0.6387 - val_loss: 3.0762 - val_accuracy: 0.3636\n",
      "Epoch 13: early stopping\n"
     ]
    }
   ],
   "source": [
    "# fit the model\n",
    "history = model.fit(\n",
    "  np.array(train_x),\n",
    "  np.array(train_y),\n",
    "  validation_data=(val_x,val_y),\n",
    "  epochs=30,\n",
    "  callbacks=[early_stop],\n",
    "  batch_size=32,shuffle=True)"
   ]
  },
  {
   "cell_type": "code",
   "execution_count": 15,
   "id": "e9aaaf5e",
   "metadata": {},
   "outputs": [
    {
     "data": {
      "image/png": "[encoded data removed]",
      "text/plain": [
       "<Figure size 640x480 with 1 Axes>"
      ]
     },
     "metadata": {},
     "output_type": "display_data"
    }
   ],
   "source": [
    "# accuracies\n",
    "plt.plot(history.history['accuracy'], label='train acc')\n",
    "plt.plot(history.history['val_accuracy'], label='val acc')\n",
    "plt.legend()\n",
    "plt.savefig('acc1.png')\n",
    "plt.show()"
   ]
  },
  {
   "cell_type": "code",
   "execution_count": 16,
   "id": "b9e36f21",
   "metadata": {},
   "outputs": [
    {
     "data": {
      "image/png": "[encoded data removed]",
      "text/plain": [
       "<Figure size 640x480 with 1 Axes>"
      ]
     },
     "metadata": {},
     "output_type": "display_data"
    }
   ],
   "source": [
    "# loss\n",
    "plt.plot(history.history['loss'], label='train loss')\n",
    "plt.plot(history.history['val_loss'], label='val loss')\n",
    "plt.legend()\n",
    "plt.savefig('loss1.png')\n",
    "plt.show()"
   ]
  },
  {
   "cell_type": "code",
   "execution_count": 17,
   "id": "62a1332f",
   "metadata": {},
   "outputs": [],
   "source": [
    "model.save('doc_datamodel.h5')"
   ]
  },
  {
   "cell_type": "code",
   "execution_count": 18,
   "id": "de63302d",
   "metadata": {},
   "outputs": [],
   "source": [
    "##############################################################\n",
    "import cv2\n",
    "from tensorflow.keras.models import load_model\n",
    "from tensorflow.keras.utils import load_img,img_to_array\n",
    "import numpy as np\n",
    "\n",
    "model=load_model('doc_datamodel.h5')\n",
    "img_width,img_height=224, 224"
   ]
  },
  {
   "cell_type": "code",
   "execution_count": 32,
   "id": "e149a312",
   "metadata": {},
   "outputs": [
    {
     "name": "stdout",
     "output_type": "stream",
     "text": [
      "(188, 268, 3)\n",
      "(224, 224, 3)\n",
      "<class 'numpy.ndarray'>\n"
     ]
    }
   ],
   "source": [
    "pred_img=\"/home/fansan/Desktop/Document-Classifier/Dataset/testing/test0.jpeg\"\n",
    "\n",
    "\n",
    "\n",
    "pred_img=cv2.imread(pred_img)\n",
    "print(pred_img.shape)\n",
    "pred_img=cv2.resize(pred_img,(224, 224),3)\n",
    "print(pred_img.shape)\n",
    "\n",
    "print(type(pred_img))"
   ]
  },
  {
   "cell_type": "code",
   "execution_count": 33,
   "id": "8bd2957a",
   "metadata": {},
   "outputs": [
    {
     "name": "stdout",
     "output_type": "stream",
     "text": [
      "Evaluate model on test data\n",
      "2/2 [==============================] - 1s 324ms/step - loss: 2.6752 - accuracy: 0.3125\n",
      "test loss, test acc: [2.6751787662506104, 0.3125]\n"
     ]
    }
   ],
   "source": [
    "print(\"Evaluate model on test data\")\n",
    "results = model.evaluate(test_x, test_y, batch_size=32)\n",
    "print(\"test loss, test acc:\", results)"
   ]
  },
  {
   "cell_type": "code",
   "execution_count": 34,
   "id": "6ad88355",
   "metadata": {},
   "outputs": [],
   "source": [
    "##prediction##s\n",
    "#pred_img.reshape(224,224)\n",
    "#x_pred=np.array([pred_img])\n",
    "#prediction=model.predict(x_pred)\n",
    "#print(prediction)\n"
   ]
  },
  {
   "cell_type": "code",
   "execution_count": 35,
   "id": "16cc44b9",
   "metadata": {},
   "outputs": [],
   "source": [
    "#y_pred=np.argmax(x_pred,axis=1)"
   ]
  },
  {
   "cell_type": "code",
   "execution_count": 36,
   "id": "609da324",
   "metadata": {},
   "outputs": [
    {
     "name": "stdout",
     "output_type": "stream",
     "text": [
      "1/1 [==============================] - 0s 110ms/step\n"
     ]
    }
   ],
   "source": [
    "pred_img=img_to_array(pred_img)\n",
    "pred_img=np.expand_dims(pred_img,axis=0)\n",
    "predictions=model.predict(pred_img)"
   ]
  },
  {
   "cell_type": "code",
   "execution_count": 37,
   "id": "71e8871c",
   "metadata": {},
   "outputs": [
    {
     "name": "stdout",
     "output_type": "stream",
     "text": [
      "4\n"
     ]
    }
   ],
   "source": [
    "p=predictions.argmax()\n",
    "print(p)"
   ]
  },
  {
   "cell_type": "code",
   "execution_count": 25,
   "id": "104812e0",
   "metadata": {},
   "outputs": [
    {
     "name": "stdout",
     "output_type": "stream",
     "text": [
      "/home/fansan/Desktop/Document-Classifier/Dataset/data/train//passport/10.jpg (176, 287, 3)\n",
      "/home/fansan/Desktop/Document-Classifier/Dataset/data/train//passport/11.jpg (268, 188, 3)\n",
      "/home/fansan/Desktop/Document-Classifier/Dataset/data/train//passport/6.jpg (133, 289, 4)\n",
      "/home/fansan/Desktop/Document-Classifier/Dataset/data/train//passport/3.jpg (624, 462, 3)\n",
      "/home/fansan/Desktop/Document-Classifier/Dataset/data/train//passport/2.jpg (169, 298, 3)\n",
      "/home/fansan/Desktop/Document-Classifier/Dataset/data/train//passport/0.jpg (179, 282, 3)\n",
      "/home/fansan/Desktop/Document-Classifier/Dataset/data/train//passport/8.jpg (178, 269, 3)\n",
      "/home/fansan/Desktop/Document-Classifier/Dataset/data/train//passport/1.jpg (176, 286, 3)\n",
      "/home/fansan/Desktop/Document-Classifier/Dataset/data/train//passport/5.jpg (175, 287, 3)\n",
      "/home/fansan/Desktop/Document-Classifier/Dataset/data/train//passport/9.jpg (188, 268, 3)\n",
      "/home/fansan/Desktop/Document-Classifier/Dataset/data/train//passport/4.jpg (265, 190, 3)\n",
      "/home/fansan/Desktop/Document-Classifier/Dataset/data/train//passport/7.jpg (186, 271, 3)\n",
      "/home/fansan/Desktop/Document-Classifier/Dataset/data/train//pan/10.jpg (255, 400, 3)\n",
      "/home/fansan/Desktop/Document-Classifier/Dataset/data/train//pan/26.jpg (181, 279, 3)\n",
      "/home/fansan/Desktop/Document-Classifier/Dataset/data/train//pan/23.jpg (323, 500, 3)\n",
      "/home/fansan/Desktop/Document-Classifier/Dataset/data/train//pan/11.jpg (225, 225, 3)\n",
      "/home/fansan/Desktop/Document-Classifier/Dataset/data/train//pan/22.jpg (352, 670, 3)\n",
      "/home/fansan/Desktop/Document-Classifier/Dataset/data/train//pan/6.jpg (180, 281, 3)\n",
      "/home/fansan/Desktop/Document-Classifier/Dataset/data/train//pan/25.jpg (800, 1200, 3)\n",
      "/home/fansan/Desktop/Document-Classifier/Dataset/data/train//pan/20.jpg (337, 500, 3)\n",
      "/home/fansan/Desktop/Document-Classifier/Dataset/data/train//pan/3.jpg (169, 250, 3)\n",
      "/home/fansan/Desktop/Document-Classifier/Dataset/data/train//pan/2.jpg (184, 274, 3)\n",
      "/home/fansan/Desktop/Document-Classifier/Dataset/data/train//pan/0.jpg (281, 500, 3)\n",
      "/home/fansan/Desktop/Document-Classifier/Dataset/data/train//pan/13.jpg (178, 283, 3)\n",
      "/home/fansan/Desktop/Document-Classifier/Dataset/data/train//pan/8.jpg (299, 500, 3)\n",
      "/home/fansan/Desktop/Document-Classifier/Dataset/data/train//pan/1.jpg (177, 285, 3)\n",
      "/home/fansan/Desktop/Document-Classifier/Dataset/data/train//pan/12.jpg (181, 279, 3)\n",
      "/home/fansan/Desktop/Document-Classifier/Dataset/data/train//pan/15.jpg (180, 280, 3)\n",
      "/home/fansan/Desktop/Document-Classifier/Dataset/data/train//pan/27.jpg (180, 280, 3)\n",
      "/home/fansan/Desktop/Document-Classifier/Dataset/data/train//pan/16.jpg (250, 320, 3)\n",
      "/home/fansan/Desktop/Document-Classifier/Dataset/data/train//pan/5.jpg (317, 500, 3)\n",
      "/home/fansan/Desktop/Document-Classifier/Dataset/data/train//pan/19.jpg (176, 287, 3)\n",
      "/home/fansan/Desktop/Document-Classifier/Dataset/data/train//pan/9.jpg (176, 287, 3)\n",
      "/home/fansan/Desktop/Document-Classifier/Dataset/data/train//pan/24.jpg (181, 278, 3)\n",
      "/home/fansan/Desktop/Document-Classifier/Dataset/data/train//pan/4.jpg (188, 269, 3)\n",
      "/home/fansan/Desktop/Document-Classifier/Dataset/data/train//pan/7.jpg (175, 288, 3)\n",
      "/home/fansan/Desktop/Document-Classifier/Dataset/data/train//pan/14.jpg (225, 225, 3)\n",
      "/home/fansan/Desktop/Document-Classifier/Dataset/data/train//pan/21.jpg (179, 281, 3)\n",
      "/home/fansan/Desktop/Document-Classifier/Dataset/data/train//pan/17.jpg (178, 284, 3)\n",
      "/home/fansan/Desktop/Document-Classifier/Dataset/data/train//driver license/30.jpg (820, 1280, 3)\n",
      "/home/fansan/Desktop/Document-Classifier/Dataset/data/train//driver license/10.jpg (302, 407, 3)\n",
      "/home/fansan/Desktop/Document-Classifier/Dataset/data/train//driver license/28.jpg (463, 510, 3)\n",
      "/home/fansan/Desktop/Document-Classifier/Dataset/data/train//driver license/26.jpg (173, 191, 3)\n",
      "/home/fansan/Desktop/Document-Classifier/Dataset/data/train//driver license/23.jpg (431, 690, 3)\n",
      "/home/fansan/Desktop/Document-Classifier/Dataset/data/train//driver license/11.jpg (167, 301, 3)\n",
      "/home/fansan/Desktop/Document-Classifier/Dataset/data/train//driver license/40.jpg (1280, 960, 3)\n",
      "/home/fansan/Desktop/Document-Classifier/Dataset/data/train//driver license/22.jpg (302, 407, 3)\n",
      "/home/fansan/Desktop/Document-Classifier/Dataset/data/train//driver license/38.jpg (366, 626, 3)\n",
      "/home/fansan/Desktop/Document-Classifier/Dataset/data/train//driver license/31.jpg (862, 1280, 3)\n",
      "/home/fansan/Desktop/Document-Classifier/Dataset/data/train//driver license/6.jpg (445, 641, 3)\n",
      "/home/fansan/Desktop/Document-Classifier/Dataset/data/train//driver license/41.jpg (302, 407, 3)\n",
      "/home/fansan/Desktop/Document-Classifier/Dataset/data/train//driver license/25.jpg (302, 407, 3)\n",
      "/home/fansan/Desktop/Document-Classifier/Dataset/data/train//driver license/20.jpg (324, 504, 3)\n",
      "/home/fansan/Desktop/Document-Classifier/Dataset/data/train//driver license/3.jpg (1512, 2016, 3)\n",
      "/home/fansan/Desktop/Document-Classifier/Dataset/data/train//driver license/2.jpg (503, 802, 3)\n",
      "/home/fansan/Desktop/Document-Classifier/Dataset/data/train//driver license/34.jpg (275, 500, 3)\n",
      "/home/fansan/Desktop/Document-Classifier/Dataset/data/train//driver license/0.jpg (734, 1152, 3)\n",
      "/home/fansan/Desktop/Document-Classifier/Dataset/data/train//driver license/13.jpg (176, 286, 3)\n",
      "/home/fansan/Desktop/Document-Classifier/Dataset/data/train//driver license/8.jpg (363, 581, 3)\n",
      "/home/fansan/Desktop/Document-Classifier/Dataset/data/train//driver license/33.jpg (302, 407, 3)\n",
      "/home/fansan/Desktop/Document-Classifier/Dataset/data/train//driver license/1.jpg (1280, 960, 3)\n",
      "/home/fansan/Desktop/Document-Classifier/Dataset/data/train//driver license/12.jpg (749, 1200, 3)\n",
      "/home/fansan/Desktop/Document-Classifier/Dataset/data/train//driver license/37.jpg (696, 1086, 3)\n",
      "/home/fansan/Desktop/Document-Classifier/Dataset/data/train//driver license/15.jpg (648, 1152, 3)\n",
      "/home/fansan/Desktop/Document-Classifier/Dataset/data/train//driver license/27.jpg (502, 746, 3)\n",
      "/home/fansan/Desktop/Document-Classifier/Dataset/data/train//driver license/16.jpg (194, 259, 3)\n",
      "/home/fansan/Desktop/Document-Classifier/Dataset/data/train//driver license/35.jpg (612, 1016, 3)\n",
      "/home/fansan/Desktop/Document-Classifier/Dataset/data/train//driver license/5.jpg (465, 1000, 3)\n",
      "/home/fansan/Desktop/Document-Classifier/Dataset/data/train//driver license/39.jpg (527, 597, 3)\n",
      "/home/fansan/Desktop/Document-Classifier/Dataset/data/train//driver license/19.jpg (302, 407, 3)\n",
      "/home/fansan/Desktop/Document-Classifier/Dataset/data/train//driver license/9.jpg (570, 909, 3)\n",
      "/home/fansan/Desktop/Document-Classifier/Dataset/data/train//driver license/32.jpg (411, 719, 3)\n",
      "/home/fansan/Desktop/Document-Classifier/Dataset/data/train//driver license/24.jpg (360, 480, 3)\n",
      "/home/fansan/Desktop/Document-Classifier/Dataset/data/train//driver license/29.jpg (628, 1200, 3)\n",
      "/home/fansan/Desktop/Document-Classifier/Dataset/data/train//driver license/4.jpg (285, 442, 3)\n",
      "/home/fansan/Desktop/Document-Classifier/Dataset/data/train//driver license/7.jpg (798, 1280, 3)\n",
      "/home/fansan/Desktop/Document-Classifier/Dataset/data/train//driver license/36.jpg (1280, 960, 3)\n",
      "/home/fansan/Desktop/Document-Classifier/Dataset/data/train//driver license/18.jpg (504, 722, 3)\n",
      "/home/fansan/Desktop/Document-Classifier/Dataset/data/train//driver license/14.jpg (291, 372, 3)\n",
      "/home/fansan/Desktop/Document-Classifier/Dataset/data/train//driver license/21.jpg (302, 435, 3)\n",
      "/home/fansan/Desktop/Document-Classifier/Dataset/data/train//driver license/17.jpg (1160, 868, 3)\n",
      "/home/fansan/Desktop/Document-Classifier/Dataset/data/train//aadhar/10.jpg (1040, 780, 3)\n",
      "/home/fansan/Desktop/Document-Classifier/Dataset/data/train//aadhar/28.jpg (178, 339, 3)\n",
      "/home/fansan/Desktop/Document-Classifier/Dataset/data/train//aadhar/26.jpg (2104, 1184, 3)\n",
      "/home/fansan/Desktop/Document-Classifier/Dataset/data/train//aadhar/23.jpg (225, 224, 3)\n",
      "/home/fansan/Desktop/Document-Classifier/Dataset/data/train//aadhar/11.jpg (2322, 4128, 3)\n",
      "/home/fansan/Desktop/Document-Classifier/Dataset/data/train//aadhar/22.jpg (2133, 1200, 3)\n",
      "/home/fansan/Desktop/Document-Classifier/Dataset/data/train//aadhar/6.jpg (433, 339, 3)\n",
      "/home/fansan/Desktop/Document-Classifier/Dataset/data/train//aadhar/25.jpg (1427, 2091, 3)\n",
      "/home/fansan/Desktop/Document-Classifier/Dataset/data/train//aadhar/20.jpg (423, 564, 3)\n",
      "/home/fansan/Desktop/Document-Classifier/Dataset/data/train//aadhar/3.jpg (300, 168, 3)\n",
      "/home/fansan/Desktop/Document-Classifier/Dataset/data/train//aadhar/2.jpg (360, 640, 3)\n",
      "/home/fansan/Desktop/Document-Classifier/Dataset/data/train//aadhar/0.jpg (183, 275, 3)\n",
      "/home/fansan/Desktop/Document-Classifier/Dataset/data/train//aadhar/13.jpg (423, 564, 3)\n",
      "/home/fansan/Desktop/Document-Classifier/Dataset/data/train//aadhar/8.jpg (1937, 3025, 3)\n",
      "/home/fansan/Desktop/Document-Classifier/Dataset/data/train//aadhar/1.jpg (259, 194, 3)\n",
      "/home/fansan/Desktop/Document-Classifier/Dataset/data/train//aadhar/12.jpg (194, 259, 3)\n",
      "/home/fansan/Desktop/Document-Classifier/Dataset/data/train//aadhar/15.jpg (259, 194, 3)\n",
      "/home/fansan/Desktop/Document-Classifier/Dataset/data/train//aadhar/27.jpg (752, 564, 3)\n",
      "/home/fansan/Desktop/Document-Classifier/Dataset/data/train//aadhar/16.jpg (184, 274, 3)\n",
      "/home/fansan/Desktop/Document-Classifier/Dataset/data/train//aadhar/5.jpg (293, 231, 3)\n",
      "/home/fansan/Desktop/Document-Classifier/Dataset/data/train//aadhar/19.jpg (259, 194, 3)\n",
      "/home/fansan/Desktop/Document-Classifier/Dataset/data/train//aadhar/9.jpg (1032, 774, 3)\n",
      "/home/fansan/Desktop/Document-Classifier/Dataset/data/train//aadhar/24.jpg (259, 194, 3)\n"
     ]
    },
    {
     "name": "stdout",
     "output_type": "stream",
     "text": [
      "/home/fansan/Desktop/Document-Classifier/Dataset/data/train//aadhar/29.jpg (1640, 920, 3)\n",
      "/home/fansan/Desktop/Document-Classifier/Dataset/data/train//aadhar/4.jpg (194, 259, 3)\n",
      "/home/fansan/Desktop/Document-Classifier/Dataset/data/train//aadhar/7.jpg (194, 259, 3)\n",
      "/home/fansan/Desktop/Document-Classifier/Dataset/data/train//aadhar/18.jpg (739, 1059, 3)\n",
      "/home/fansan/Desktop/Document-Classifier/Dataset/data/train//aadhar/14.jpg (176, 286, 3)\n",
      "/home/fansan/Desktop/Document-Classifier/Dataset/data/train//aadhar/21.jpg (3120, 4160, 3)\n",
      "/home/fansan/Desktop/Document-Classifier/Dataset/data/train//aadhar/17.jpg (865, 564, 3)\n",
      "/home/fansan/Desktop/Document-Classifier/Dataset/data/train//voter/15.JPG (570, 754, 3)\n",
      "/home/fansan/Desktop/Document-Classifier/Dataset/data/train//voter/40.png (475, 520, 3)\n",
      "/home/fansan/Desktop/Document-Classifier/Dataset/data/train//voter/12.jpeg (1512, 2016, 3)\n",
      "/home/fansan/Desktop/Document-Classifier/Dataset/data/train//voter/38.png (507, 471, 3)\n",
      "/home/fansan/Desktop/Document-Classifier/Dataset/data/train//voter/27.png (422, 575, 3)\n",
      "/home/fansan/Desktop/Document-Classifier/Dataset/data/train//voter/36.png (408, 360, 3)\n",
      "/home/fansan/Desktop/Document-Classifier/Dataset/data/train//voter/10.jpg (300, 256, 3)\n",
      "/home/fansan/Desktop/Document-Classifier/Dataset/data/train//voter/11.jpg (220, 172, 3)\n",
      "/home/fansan/Desktop/Document-Classifier/Dataset/data/train//voter/23.png (325, 407, 3)\n",
      "/home/fansan/Desktop/Document-Classifier/Dataset/data/train//voter/49.png (428, 545, 3)\n",
      "/home/fansan/Desktop/Document-Classifier/Dataset/data/train//voter/50.png (649, 548, 3)\n",
      "/home/fansan/Desktop/Document-Classifier/Dataset/data/train//voter/28.png (466, 407, 3)\n",
      "/home/fansan/Desktop/Document-Classifier/Dataset/data/train//voter/46.png (923, 701, 3)\n",
      "/home/fansan/Desktop/Document-Classifier/Dataset/data/train//voter/33.png (699, 423, 3)\n",
      "/home/fansan/Desktop/Document-Classifier/Dataset/data/train//voter/25.png (454, 407, 3)\n",
      "/home/fansan/Desktop/Document-Classifier/Dataset/data/train//voter/34.png (374, 285, 3)\n",
      "/home/fansan/Desktop/Document-Classifier/Dataset/data/train//voter/32.png (390, 279, 3)\n",
      "/home/fansan/Desktop/Document-Classifier/Dataset/data/train//voter/44.png (775, 571, 3)\n",
      "/home/fansan/Desktop/Document-Classifier/Dataset/data/train//voter/41.png (483, 365, 3)\n",
      "/home/fansan/Desktop/Document-Classifier/Dataset/data/train//voter/20.jpeg (1280, 960, 3)\n",
      "/home/fansan/Desktop/Document-Classifier/Dataset/data/train//voter/29.png (453, 407, 3)\n",
      "/home/fansan/Desktop/Document-Classifier/Dataset/data/train//voter/48.png (1125, 604, 3)\n",
      "/home/fansan/Desktop/Document-Classifier/Dataset/data/train//voter/13.jpg (2320, 1184, 3)\n",
      "/home/fansan/Desktop/Document-Classifier/Dataset/data/train//voter/8.jpg (245, 209, 3)\n",
      "/home/fansan/Desktop/Document-Classifier/Dataset/data/train//voter/22.png (515, 407, 3)\n",
      "/home/fansan/Desktop/Document-Classifier/Dataset/data/train//voter/14.JPG (595, 526, 3)\n",
      "/home/fansan/Desktop/Document-Classifier/Dataset/data/train//voter/45.png (679, 513, 3)\n",
      "/home/fansan/Desktop/Document-Classifier/Dataset/data/train//voter/35.png (419, 557, 3)\n",
      "/home/fansan/Desktop/Document-Classifier/Dataset/data/train//voter/21.png (466, 407, 3)\n",
      "/home/fansan/Desktop/Document-Classifier/Dataset/data/train//voter/37.png (514, 327, 3)\n",
      "/home/fansan/Desktop/Document-Classifier/Dataset/data/train//voter/3.jpeg (1280, 779, 3)\n",
      "/home/fansan/Desktop/Document-Classifier/Dataset/data/train//voter/9.jpg (174, 130, 3)\n",
      "/home/fansan/Desktop/Document-Classifier/Dataset/data/train//voter/39.png (413, 284, 3)\n",
      "/home/fansan/Desktop/Document-Classifier/Dataset/data/train//voter/30.png (456, 407, 3)\n",
      "/home/fansan/Desktop/Document-Classifier/Dataset/data/train//voter/19.jpeg (1160, 868, 3)\n",
      "/home/fansan/Desktop/Document-Classifier/Dataset/data/train//voter/47.png (550, 344, 3)\n",
      "/home/fansan/Desktop/Document-Classifier/Dataset/data/train//voter/42.png (407, 343, 3)\n",
      "/home/fansan/Desktop/Document-Classifier/Dataset/data/train//voter/16.PNG (863, 588, 4)\n",
      "/home/fansan/Desktop/Document-Classifier/Dataset/data/train//voter/26.png (507, 440, 3)\n",
      "/home/fansan/Desktop/Document-Classifier/Dataset/data/train//voter/31.png (332, 262, 3)\n",
      "/home/fansan/Desktop/Document-Classifier/Dataset/data/train//voter/18.jpg (960, 1280, 3)\n",
      "/home/fansan/Desktop/Document-Classifier/Dataset/data/train//voter/43.png (696, 471, 3)\n",
      "/home/fansan/Desktop/Document-Classifier/Dataset/data/train//voter/24.png (544, 407, 3)\n",
      "/home/fansan/Desktop/Document-Classifier/Dataset/data/train//voter/17.jpg (1160, 868, 3)\n",
      "/home/fansan/Desktop/Document-Classifier/Dataset/data/test//passport/3.jpg (633, 464, 3)\n",
      "/home/fansan/Desktop/Document-Classifier/Dataset/data/test//passport/2.jpg (453, 701, 3)\n",
      "/home/fansan/Desktop/Document-Classifier/Dataset/data/test//passport/0.jpg (622, 460, 3)\n",
      "/home/fansan/Desktop/Document-Classifier/Dataset/data/test//passport/1.jpg (130, 190, 3)\n",
      "/home/fansan/Desktop/Document-Classifier/Dataset/data/test//dl/10.jpg (419, 695, 3)\n",
      "/home/fansan/Desktop/Document-Classifier/Dataset/data/test//dl/11.jpg (584, 425, 3)\n",
      "/home/fansan/Desktop/Document-Classifier/Dataset/data/test//dl/6.jpg (300, 505, 3)\n",
      "/home/fansan/Desktop/Document-Classifier/Dataset/data/test//dl/3.jpg (442, 673, 3)\n",
      "/home/fansan/Desktop/Document-Classifier/Dataset/data/test//dl/2.jpg (358, 554, 3)\n",
      "/home/fansan/Desktop/Document-Classifier/Dataset/data/test//dl/0.jpg (749, 1200, 3)\n",
      "/home/fansan/Desktop/Document-Classifier/Dataset/data/test//dl/8.jpg (3714, 2493, 3)\n",
      "/home/fansan/Desktop/Document-Classifier/Dataset/data/test//dl/1.jpg (3509, 2480, 3)\n",
      "/home/fansan/Desktop/Document-Classifier/Dataset/data/test//dl/5.jpg (311, 500, 3)\n",
      "/home/fansan/Desktop/Document-Classifier/Dataset/data/test//dl/9.jpg (3579, 2481, 3)\n",
      "/home/fansan/Desktop/Document-Classifier/Dataset/data/test//dl/4.jpg (768, 1280, 3)\n",
      "/home/fansan/Desktop/Document-Classifier/Dataset/data/test//dl/7.jpg (213, 346, 3)\n",
      "/home/fansan/Desktop/Document-Classifier/Dataset/data/test//aadhaar/6.jpg (259, 194, 3)\n",
      "/home/fansan/Desktop/Document-Classifier/Dataset/data/test//aadhaar/3.jpg (181, 279, 3)\n",
      "/home/fansan/Desktop/Document-Classifier/Dataset/data/test//aadhaar/2.jpg (1640, 920, 3)\n",
      "/home/fansan/Desktop/Document-Classifier/Dataset/data/test//aadhaar/0.jpg (151, 335, 3)\n",
      "/home/fansan/Desktop/Document-Classifier/Dataset/data/test//aadhaar/8.jpg (187, 269, 3)\n",
      "/home/fansan/Desktop/Document-Classifier/Dataset/data/test//aadhaar/1.jpg (167, 301, 3)\n",
      "/home/fansan/Desktop/Document-Classifier/Dataset/data/test//aadhaar/5.jpg (183, 275, 3)\n",
      "/home/fansan/Desktop/Document-Classifier/Dataset/data/test//aadhaar/4.jpg (545, 970, 3)\n",
      "/home/fansan/Desktop/Document-Classifier/Dataset/data/test//aadhaar/7.jpg (300, 168, 3)\n",
      "/home/fansan/Desktop/Document-Classifier/Dataset/data/test//pan/6.jpg (375, 600, 3)\n",
      "/home/fansan/Desktop/Document-Classifier/Dataset/data/test//pan/3.jpg (206, 245, 3)\n",
      "/home/fansan/Desktop/Document-Classifier/Dataset/data/test//pan/2.jpg (900, 1600, 3)\n",
      "/home/fansan/Desktop/Document-Classifier/Dataset/data/test//pan/0.jpg (1600, 1600, 3)\n",
      "/home/fansan/Desktop/Document-Classifier/Dataset/data/test//pan/8.jpg (412, 640, 3)\n",
      "/home/fansan/Desktop/Document-Classifier/Dataset/data/test//pan/1.jpg (183, 275, 3)\n",
      "/home/fansan/Desktop/Document-Classifier/Dataset/data/test//pan/5.jpg (194, 259, 3)\n",
      "/home/fansan/Desktop/Document-Classifier/Dataset/data/test//pan/4.jpg (433, 770, 3)\n",
      "/home/fansan/Desktop/Document-Classifier/Dataset/data/test//pan/7.jpg (206, 245, 3)\n",
      "/home/fansan/Desktop/Document-Classifier/Dataset/data/test//voter/10.jpg (671, 402, 3)\n",
      "/home/fansan/Desktop/Document-Classifier/Dataset/data/test//voter/11.jpg (516, 725)\n",
      "/home/fansan/Desktop/Document-Classifier/Dataset/data/test//voter/6.jpg (459, 754)\n",
      "/home/fansan/Desktop/Document-Classifier/Dataset/data/test//voter/3.jpg (752, 604, 3)\n",
      "/home/fansan/Desktop/Document-Classifier/Dataset/data/test//voter/2.jpg (801, 485, 3)\n",
      "/home/fansan/Desktop/Document-Classifier/Dataset/data/test//voter/0.jpg (1152, 648, 3)\n",
      "/home/fansan/Desktop/Document-Classifier/Dataset/data/test//voter/13.jpg (216, 249, 3)\n",
      "/home/fansan/Desktop/Document-Classifier/Dataset/data/test//voter/8.jpg (802, 325, 3)\n",
      "/home/fansan/Desktop/Document-Classifier/Dataset/data/test//voter/1.jpg (1000, 442)\n",
      "/home/fansan/Desktop/Document-Classifier/Dataset/data/test//voter/12.jpg (713, 451, 3)\n",
      "/home/fansan/Desktop/Document-Classifier/Dataset/data/test//voter/5.jpg (503, 339, 3)\n",
      "/home/fansan/Desktop/Document-Classifier/Dataset/data/test//voter/9.jpg (580, 790, 3)\n",
      "/home/fansan/Desktop/Document-Classifier/Dataset/data/test//voter/4.jpg (401, 157, 3)\n",
      "/home/fansan/Desktop/Document-Classifier/Dataset/data/test//voter/7.jpg (250, 160, 3)\n",
      "/home/fansan/Desktop/Document-Classifier/Dataset/data/valid//passport/2.jpg (2000, 1500, 3)\n",
      "/home/fansan/Desktop/Document-Classifier/Dataset/data/valid//passport/0.jpg (621, 455, 3)\n",
      "/home/fansan/Desktop/Document-Classifier/Dataset/data/valid//passport/1.jpg (635, 460, 3)\n",
      "/home/fansan/Desktop/Document-Classifier/Dataset/data/valid//dl/3.jpg (419, 695, 3)\n"
     ]
    },
    {
     "name": "stdout",
     "output_type": "stream",
     "text": [
      "/home/fansan/Desktop/Document-Classifier/Dataset/data/valid//dl/2.jpg (2650, 1844, 3)\n",
      "/home/fansan/Desktop/Document-Classifier/Dataset/data/valid//dl/0.jpg (168, 300, 3)\n",
      "/home/fansan/Desktop/Document-Classifier/Dataset/data/valid//dl/1.jpg (1963, 1684, 3)\n",
      "/home/fansan/Desktop/Document-Classifier/Dataset/data/valid//dl/4.jpg (547, 835, 3)\n",
      "/home/fansan/Desktop/Document-Classifier/Dataset/data/valid//aadhaar/6.jpg (168, 300, 3)\n",
      "/home/fansan/Desktop/Document-Classifier/Dataset/data/valid//aadhaar/3.jpg (374, 500, 3)\n",
      "/home/fansan/Desktop/Document-Classifier/Dataset/data/valid//aadhaar/2.jpg (185, 273, 3)\n",
      "/home/fansan/Desktop/Document-Classifier/Dataset/data/valid//aadhaar/0.jpg (194, 259, 3)\n",
      "/home/fansan/Desktop/Document-Classifier/Dataset/data/valid//aadhaar/1.jpg (168, 300, 3)\n",
      "/home/fansan/Desktop/Document-Classifier/Dataset/data/valid//aadhaar/5.jpg (259, 194, 3)\n",
      "/home/fansan/Desktop/Document-Classifier/Dataset/data/valid//aadhaar/4.jpg (547, 835, 3)\n",
      "/home/fansan/Desktop/Document-Classifier/Dataset/data/valid//aadhaar/7.jpg (399, 574, 3)\n",
      "/home/fansan/Desktop/Document-Classifier/Dataset/data/valid//pan/3.jpg (179, 281, 3)\n",
      "/home/fansan/Desktop/Document-Classifier/Dataset/data/valid//pan/2.jpg (648, 1002, 3)\n",
      "/home/fansan/Desktop/Document-Classifier/Dataset/data/valid//pan/0.jpg (152, 250, 3)\n",
      "/home/fansan/Desktop/Document-Classifier/Dataset/data/valid//pan/1.jpg (405, 539, 3)\n",
      "/home/fansan/Desktop/Document-Classifier/Dataset/data/valid//pan/5.jpg (181, 279, 3)\n",
      "/home/fansan/Desktop/Document-Classifier/Dataset/data/valid//pan/4.jpg (178, 283, 3)\n",
      "/home/fansan/Desktop/Document-Classifier/Dataset/data/valid//voter/10.jpg (1080, 732, 3)\n",
      "/home/fansan/Desktop/Document-Classifier/Dataset/data/valid//voter/6.jpg (500, 500, 3)\n",
      "/home/fansan/Desktop/Document-Classifier/Dataset/data/valid//voter/3.jpg (1200, 829, 3)\n",
      "/home/fansan/Desktop/Document-Classifier/Dataset/data/valid//voter/2.jpg (595, 526, 3)\n",
      "/home/fansan/Desktop/Document-Classifier/Dataset/data/valid//voter/0.jpg (2320, 1184, 3)\n",
      "/home/fansan/Desktop/Document-Classifier/Dataset/data/valid//voter/8.jpg (282, 179, 3)\n",
      "/home/fansan/Desktop/Document-Classifier/Dataset/data/valid//voter/1.jpg (956, 660, 4)\n",
      "/home/fansan/Desktop/Document-Classifier/Dataset/data/valid//voter/5.jpg (1280, 790, 3)\n",
      "/home/fansan/Desktop/Document-Classifier/Dataset/data/valid//voter/9.jpg (450, 600, 3)\n",
      "/home/fansan/Desktop/Document-Classifier/Dataset/data/valid//voter/4.jpg (2048, 1152, 3)\n",
      "/home/fansan/Desktop/Document-Classifier/Dataset/data/valid//voter/7.jpg (956, 611, 4)\n"
     ]
    }
   ],
   "source": [
    "x_train=[]\n",
    "\n",
    "for folder in os.listdir(train_path):\n",
    "\n",
    "    sub_path=train_path+\"/\"+folder\n",
    "\n",
    "    for img in os.listdir(sub_path):\n",
    "        img_path=sub_path+\"/\"+img\n",
    "        img=cv2.imread(img_path,cv2.IMREAD_UNCHANGED)\n",
    "        print(img_path,img.shape)\n",
    "\n",
    "x_test=[]\n",
    "\n",
    "for folder in os.listdir(test_path):\n",
    "    sub_path=test_path+\"/\"+folder\n",
    "    for img in os.listdir(sub_path):\n",
    "        img_path=sub_path+\"/\"+img\n",
    "        img=cv2.imread(img_path,cv2.IMREAD_UNCHANGED)\n",
    "        print(img_path,img.shape)\n",
    "\n",
    "x_val=[]\n",
    "\n",
    "for folder in os.listdir(val_path):\n",
    "\n",
    "    sub_path=val_path+\"/\"+folder\n",
    "\n",
    "    for img in os.listdir(sub_path):\n",
    "        img_path=sub_path+\"/\"+img\n",
    "        img=cv2.imread(img_path,cv2.IMREAD_UNCHANGED)\n",
    "        print(img_path,img.shape)"
   ]
  },
  {
   "cell_type": "code",
   "execution_count": null,
   "id": "6c805b1b",
   "metadata": {},
   "outputs": [],
   "source": []
  }
 ],
 "metadata": {
  "kernelspec": {
   "display_name": "Python 3 (ipykernel)",
   "language": "python",
   "name": "python3"
  },
  "language_info": {
   "codemirror_mode": {
    "name": "ipython",
    "version": 3
   },
   "file_extension": ".py",
   "mimetype": "text/x-python",
   "name": "python",
   "nbconvert_exporter": "python",
   "pygments_lexer": "ipython3",
   "version": "3.9.7"
  }
 },
 "nbformat": 4,
 "nbformat_minor": 5
}
