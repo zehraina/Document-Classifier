{
 "cells": [
  {
   "cell_type": "code",
   "execution_count": 49,
   "id": "a32da90e",
   "metadata": {},
   "outputs": [
    {
     "data": {
      "text/plain": [
       "'Bubble sort\\n\\nIt starts with comparing two elements and swaps if one element is greater than the other. After each pass, the element with the largest weight gets its position at the end of the array.\\n\\n\\n\\nProgram: \\n\\n#include <bits/stdc++.h>\\n\\nusing namespace std;\\n\\nvoid bubbleSort(int arr[], int n)\\n\\n{\\n\\n\\tint i, j;\\n\\n\\tfor (i = 0; i < n - 1; i++)\\n\\n\\t\\tfor (j = 0; j < n - i - 1; j++)\\n\\n\\t\\t\\tif (arr[j] > arr[j + 1])\\n\\n\\t\\t\\t\\tswap(arr[j], arr[j + 1]);\\n\\n}\\n\\n\\n\\nvoid printArray(int arr[], int size)\\n\\n{\\n\\n\\tint i;\\n\\n\\tfor (i = 0; i < size; i++)\\n\\n\\t\\tcout << arr[i] << \" \";\\n\\n\\tcout << endl;\\n\\n}\\n\\n\\n\\nint main()\\n\\n{\\n\\n\\tint arr[] = { 5, 1, 4, 2, 8};\\n\\n\\tint N = sizeof(arr) / sizeof(arr[0]);\\n\\n\\tbubbleSort(arr, N);\\n\\n\\tprintArray(arr, N);\\n\\n\\treturn 0;\\n\\n}\\n\\n\\n\\nTime complexity analysis:\\n\\nWorst case: O(n^2)\\n\\nBest case: O(n)\\n\\n\\n\\n\\n\\nQuick Sort\\n\\nIt is a divide and conquer algorithm. A pivot element is selected and then the array is partitioned around this pivot element. The smaller elements are put before the pivot element and the larger elements are put after the pivot element.\\n\\n\\n\\nProgram: \\n\\n#include <bits/stdc++.h>\\n\\nusing namespace std;\\n\\n\\n\\nvoid swap(int a, int b){\\n\\n    int temp;\\n\\n    temp=a[l];\\n\\n    a[l]=a[j];\\n\\n    a[j]=temp;\\n\\n}\\n\\n\\n\\nvoid partition(int i, int h, int a[]){\\n\\n         int pivot=a[l];\\n\\n         int i=l; int j=h;\\n\\n         while(i<j){\\n\\n             do {\\n\\n                 i++;\\n\\n             }\\n\\n             while (a[i]<=pivot) \\n\\n             \\n\\n             do{\\n\\n                 j--;\\n\\n          \\n\\n             }\\n\\n              while(a[j]>pivot)\\n\\n              \\n\\n              if(i<j) swap(a[i], a[j]);\\n\\n              \\n\\n         }\\n\\n         swap(a[l], a[j]);\\n\\n         return j;\\n\\n             \\n\\n}\\n\\n\\n\\nvoid quick_sort(int l, int h, int a[]){\\n\\n    if (l<h){\\n\\n        j=partition(l, h);\\n\\n        quick_sort(l, j);\\n\\nquick_sort(j+1, h);\\n\\n        \\n\\n    }\\n\\n}\\n\\n\\n\\nint main()\\n\\n{\\n\\n\\tint arr[] = { 5, 1, 4, 2, 8};\\n\\n\\tint N = sizeof(arr) / sizeof(arr[0]);\\n\\n\\tquick_sort(arr, N);\\n\\n\\tprintArray(arr, N);\\n\\n\\treturn 0;\\n\\n}\\n\\n\\n\\nBest case: Partition is done in the middle O(nlogn) -> Best case. The best case is not always possible because the partition is to be done at the median, and median can’t be known unless the list is sorted already. \\n\\n\\n\\nWorst case: Partition is happening at the beginning of the list O(n^2).\\n\\n\\n\\n\\n\\n\\n\\n\\n\\n\\n\\n\\n\\n\\n\\n\\n\\n\\n\\n\\n\\n\\n\\n\\n\\n\\n\\n\\n\\n\\n\\n\\n\\n\\n\\n\\n\\n\\n\\n\\n\\n\\n\\n\\n\\n\\n\\n\\n\\n\\n\\n\\n\\n\\n\\n\\n\\n\\n\\n\\n\\n\\n\\n\\n\\n\\n\\n\\n\\n\\n\\n\\n\\n\\n\\n\\n\\n\\n\\n\\n\\n\\n\\n\\n\\n\\n\\n\\n\\nInsertion Sort\\n\\n\\n\\nIt starts by picking up any unsorted element, comparing with elements from left to right. Then a space is created by shifting or moving the elements to next position. Finally, the selected element is inserted into the empty space.\\n\\n\\n\\nProgram:\\n\\n#include<iostream.h>\\n\\nvoid main()\\n\\n{\\n\\n\\tint a[100],n,k,i,j,temp;\\n\\n\\tcout<<” How many elements”;\\n\\ncin>>n;\\n\\ncout<<” How many elements of array”;\\n\\nfor(i=o;i<=n-1;i++)\\n\\n{\\n\\n\\tcin>>a[i];\\n\\n}\\n\\n\\tfor (k=1; k<=n-1; k++)\\n\\n\\t{\\n\\n\\t\\ttemp=a[k];\\n\\n\\t\\tj=k-1;\\n\\n\\t\\twhile((temp < a[j]) && (j>=0))\\n\\n\\t\\t{\\n\\n\\t\\t\\ta[j+1] = a[j];\\n\\n\\t\\t\\tj = j-1;\\n\\n\\t\\t}\\n\\n\\t\\ta[j+1] = temp;\\n\\n}\\n\\n\\t\\n\\n\\t\\n\\n\\tcout<<”After sorting :  \\\\n“;\\n\\n\\tfor(i=0 ; i<n; i++)\\n\\n\\n\\n\\t{\\n\\n\\t\\tcout<<a[i];\\n\\n\\t}\\n\\n}\\n\\n\\n\\nTime complexity analysis:\\n\\nWorst case: O(n^2)\\n\\nBest case: O(n)\\n\\n\\n\\n \\n\\n\\n\\nMerge sort:\\n\\nSince the array is getting divided into 2 halves until atomic elements are achieved, the time complexity becomes O(logn). After sorting, we need to merge the sorted elements into one single array. To do that, the algorithm traverses through each and every element and merges them. This takes O(n) time. So, the time complexity of merge sort is  O(nlogn).\\n\\nusing namespace std;\\n\\n#include <iostream>\\n\\nvoid merge(int a[], int mid, int low, int high){\\n\\n\\tint i, j, k, b[100];\\n\\n\\ti=low;\\n\\n    j=mid+1;\\n\\n\\tk=low;\\n\\n\\twhile(i<=mid and j<=high){\\n\\n    \\tif (a[i]<a[j]) {\\n\\n            b[k]=a[i];\\n\\n            i++;\\n\\n            k++;  \\n\\n\\t}\\n\\n\\telse {\\n\\n        b[k]=a[j];\\n\\n        k++;\\n\\n        j++;\\n\\n\\t}\\n\\n\\t}\\n\\n \\n\\n    while(i<=mid) {\\n\\n        b[k]=a[i];\\n\\n        k++; i++;\\n\\n\\t}\\n\\n\\twhile(j<=high) {\\n\\n        b[k]=a[j];\\n\\n        k++; j++;\\n\\n\\t}\\n\\n\\t\\n\\n\\tfor (int i=low;i<=high;i++){\\n\\n        a[i]=b[i];\\n\\n\\t}\\n\\n  \\n\\n}\\n\\nvoid merge_sort(int a[], int low, int high){\\n\\n\\tint mid;\\n\\n    if(low<high){\\n\\n        mid=(low+high)/2;\\n\\n        merge_sort(a,low, mid);\\n\\n        merge_sort(a,mid+1, high);\\n\\n        merge(a,mid, low,  high);\\n\\n\\t}\\n\\n}\\n\\nvoid printArray(int *A, int n)\\n\\n{\\n\\n\\tfor (int i = 0; i < n; i++)\\n\\n\\t{\\n\\n        printf(\"%d \", A[i]);\\n\\n\\t}\\n\\n    printf(\"\\\\n\");\\n\\n}\\n\\nint main()\\n\\n{\\n\\n\\tint a[]={9,5,0,3,6,2,1,6,4};\\n\\n    merge_sort(a, 0, 8);\\n\\n    printArray(a, 9);\\n\\n\\treturn 0;\\n\\n}\\n\\n\\n\\nSelection sort\\n\\n Selection sort works with picking up the smallest element from the array and then putting it on the first position.\\n\\nProgram:\\n\\nusing namespace std;\\n\\n#include <iostream>\\n\\nvoid swap(int *xp, int *yp)\\n\\n{\\n\\n\\tint temp = *xp;\\n\\n\\t*xp = *yp;\\n\\n\\t*yp = temp;\\n\\n}\\n\\n \\n\\nvoid selecton_sort(int a[], int n){ int i, j; int s;\\n\\n\\tfor ( i=0;i<n-1;i++){\\n\\n        s=i;\\n\\n    \\tfor ( j=i+1;j<n;j++)\\n\\n            if (a[j]<a[s]) s=j;\\n\\n    \\tif (s!=i) swap(&a[i], &a[s]);\\n\\n\\t}\\n\\n}\\n\\nvoid printArray(int *A, int n)\\n\\n{\\n\\n\\tfor (int i = 0; i < n; i++)\\n\\n\\t{\\n\\n        printf(\"%d \", A[i]);\\n\\n\\t}\\n\\n    printf(\"\\\\n\");\\n\\n}\\n\\nint main()\\n\\n{\\n\\n\\tint a[]={9,5,0,3,6,2,1,6,4};\\n\\n    selecton_sort(a,  sizeof(a)/sizeof(a[0]));\\n\\n    printArray(a, sizeof(a)/sizeof(a[0]));\\n\\n\\treturn 0;\\n\\n}\\n\\n\\n\\nWorst case: O(n^2)\\n\\nBest case: O(n^2)'"
      ]
     },
     "execution_count": 49,
     "metadata": {},
     "output_type": "execute_result"
    }
   ],
   "source": [
    "import PyPDF2\n",
    "import re\n",
    "\n",
    "\n",
    "import docxpy\n",
    "# pdf_file=r'C:\\Users\\inaze\\Desktop\\pdftest.pdf'\n",
    "inp=r'C:\\Users\\inaze\\Desktop\\APS LAB1.docx'\n",
    "\n",
    "def pdf_to_txt(pdf_file):\n",
    "    extracted_text = extract_text_from_pdf(pdf_file)\n",
    "    for text in extracted_text:\n",
    "        return text\n",
    "        \n",
    "if \".pdf\" in inp:\n",
    "    text=pdf_to_txt(inp)\n",
    "if \".doc\" in inp:\n",
    "    text=docxpy.process(inp)\n",
    "    \n",
    "\n",
    "    \n",
    "\n",
    "    \n",
    "    \n",
    "    \n",
    "\n",
    "\n"
   ]
  },
  {
   "cell_type": "code",
   "execution_count": 42,
   "id": "bfd09b75",
   "metadata": {},
   "outputs": [
    {
     "name": "stdout",
     "output_type": "stream",
     "text": [
      "None\n"
     ]
    }
   ],
   "source": []
  },
  {
   "cell_type": "code",
   "execution_count": 43,
   "id": "409ef11d",
   "metadata": {},
   "outputs": [],
   "source": [
    "a"
   ]
  },
  {
   "cell_type": "code",
   "execution_count": 44,
   "id": "156f7692",
   "metadata": {},
   "outputs": [
    {
     "name": "stdout",
     "output_type": "stream",
     "text": [
      "Collecting docx\n",
      "  Downloading docx-0.2.4.tar.gz (54 kB)\n",
      "     ---------------------------------------- 54.9/54.9 kB 3.0 MB/s eta 0:00:00\n",
      "  Preparing metadata (setup.py): started\n",
      "  Preparing metadata (setup.py): finished with status 'done'\n",
      "Requirement already satisfied: lxml in c:\\users\\inaze\\appdata\\local\\programs\\python\\python310\\lib\\site-packages (from docx) (4.9.1)\n",
      "Requirement already satisfied: Pillow>=2.0 in c:\\users\\inaze\\appdata\\local\\programs\\python\\python310\\lib\\site-packages (from docx) (9.1.0)\n",
      "Building wheels for collected packages: docx\n",
      "  Building wheel for docx (setup.py): started\n",
      "  Building wheel for docx (setup.py): finished with status 'done'\n",
      "  Created wheel for docx: filename=docx-0.2.4-py3-none-any.whl size=53924 sha256=379a9a64724333d1e18377bbda1198297589f2610151506e404ed2aaa465d5cf\n",
      "  Stored in directory: c:\\users\\inaze\\appdata\\local\\pip\\cache\\wheels\\34\\71\\d1\\6627e591572f0d8f43d326046644eaf8a7266f52d35fb71afc\n",
      "Successfully built docx\n",
      "Installing collected packages: docx\n",
      "Successfully installed docx-0.2.4\n",
      "Note: you may need to restart the kernel to use updated packages.\n"
     ]
    }
   ],
   "source": []
  },
  {
   "cell_type": "code",
   "execution_count": 45,
   "id": "b3dd4ef1",
   "metadata": {},
   "outputs": [
    {
     "name": "stdout",
     "output_type": "stream",
     "text": [
      "Collecting docxpy\n",
      "  Downloading docxpy-0.8.5.tar.gz (4.1 kB)\n",
      "  Preparing metadata (setup.py): started\n",
      "  Preparing metadata (setup.py): finished with status 'done'\n",
      "Building wheels for collected packages: docxpy\n",
      "  Building wheel for docxpy (setup.py): started\n",
      "  Building wheel for docxpy (setup.py): finished with status 'done'\n",
      "  Created wheel for docxpy: filename=docxpy-0.8.5-py3-none-any.whl size=5001 sha256=53d176e7595be62cb3771ee5003ac542ac5cebb766a1126fe0173c5e7d2f70d5\n",
      "  Stored in directory: c:\\users\\inaze\\appdata\\local\\pip\\cache\\wheels\\ff\\61\\99\\ac42204be6aa37f2156c914c3ae207d129bbea00a74c211bff\n",
      "Successfully built docxpy\n",
      "Installing collected packages: docxpy\n",
      "Successfully installed docxpy-0.8.5\n",
      "Note: you may need to restart the kernel to use updated packages.\n"
     ]
    }
   ],
   "source": []
  },
  {
   "cell_type": "code",
   "execution_count": null,
   "id": "2353fe19",
   "metadata": {},
   "outputs": [],
   "source": []
  }
 ],
 "metadata": {
  "kernelspec": {
   "display_name": "Python 3 (ipykernel)",
   "language": "python",
   "name": "python3"
  },
  "language_info": {
   "codemirror_mode": {
    "name": "ipython",
    "version": 3
   },
   "file_extension": ".py",
   "mimetype": "text/x-python",
   "name": "python",
   "nbconvert_exporter": "python",
   "pygments_lexer": "ipython3",
   "version": "3.10.4"
  }
 },
 "nbformat": 4,
 "nbformat_minor": 5
}
